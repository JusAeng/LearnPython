{
 "cells": [
  {
   "cell_type": "code",
   "execution_count": null,
   "source": [
    "import pandas as pd\r\n",
    "import numpy as np\r\n",
    "\r\n",
    "def dataFrame():\r\n",
    "    data_ls = [10,20,'jus',14.12,'eiei'] #List\r\n",
    "    data_tp = (10,20,'jus',14.12,'eiei') #tuple\r\n",
    "    cols=['Age']\r\n",
    "    print(pd.DataFrame(data_ls,columns=cols))\r\n",
    "    print(pd.DataFrame(data_tp,columns=cols))\r\n",
    "dataFrame()"
   ],
   "outputs": [],
   "metadata": {}
  },
  {
   "cell_type": "code",
   "execution_count": null,
   "source": [
    "def dataFrame2Col():\r\n",
    "        datas=[['keyboard','device',1200],\r\n",
    "                ['doll','toy',900],\r\n",
    "                ['mouse','IT',300]      ]\r\n",
    "        col2 = ['Name','Type','Price']\r\n",
    "        ps=pd.DataFrame(datas,columns=col2)\r\n",
    "        print(ps)\r\n",
    "dataFrame2Col()"
   ],
   "outputs": [],
   "metadata": {}
  },
  {
   "cell_type": "code",
   "execution_count": null,
   "source": [
    "def zipDataFrame():\r\n",
    "    product1=['keyboard','doll','mouse']    #Name\r\n",
    "    product2=['device','toy','IT']          #Type\r\n",
    "    product3=[1200,900,300]                 #Price\r\n",
    "    data=list(zip(product1,product2,product3))\r\n",
    "    col=['Name','Type','Price']\r\n",
    "    ps=pd.DataFrame(data,columns=col)\r\n",
    "    print(ps)\r\n",
    "zipDataFrame()\r\n"
   ],
   "outputs": [],
   "metadata": {}
  }
 ],
 "metadata": {
  "orig_nbformat": 4,
  "language_info": {
   "name": "python",
   "version": "3.9.6",
   "mimetype": "text/x-python",
   "codemirror_mode": {
    "name": "ipython",
    "version": 3
   },
   "pygments_lexer": "ipython3",
   "nbconvert_exporter": "python",
   "file_extension": ".py"
  },
  "kernelspec": {
   "name": "python3",
   "display_name": "Python 3.9.6 64-bit (windows store)"
  },
  "interpreter": {
   "hash": "38d51dd8e8d25c2b4859ddf5fde4d8615b38902fd48d30a19bf46ddb81d406a6"
  }
 },
 "nbformat": 4,
 "nbformat_minor": 2
}